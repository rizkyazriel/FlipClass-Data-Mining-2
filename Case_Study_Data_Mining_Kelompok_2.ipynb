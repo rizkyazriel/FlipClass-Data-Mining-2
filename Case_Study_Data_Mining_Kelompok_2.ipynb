{
  "nbformat": 4,
  "nbformat_minor": 0,
  "metadata": {
    "colab": {
      "provenance": [],
      "collapsed_sections": []
    },
    "kernelspec": {
      "name": "python3",
      "display_name": "Python 3"
    },
    "language_info": {
      "name": "python"
    }
  },
  "cells": [
    {
      "cell_type": "code",
      "execution_count": 1,
      "metadata": {
        "id": "dmLdJYzDxbT9",
        "colab": {
          "base_uri": "https://localhost:8080/"
        },
        "outputId": "7fe56ebf-217a-46c7-c432-b32440fec95d"
      },
      "outputs": [
        {
          "output_type": "stream",
          "name": "stdout",
          "text": [
            "Test\n",
            "123\n"
          ]
        }
      ],
      "source": [
        "print(\"Test\")\n",
        "print(\"123\")"
      ]
    },
    {
      "cell_type": "code",
      "source": [
        "print('Testing')"
      ],
      "metadata": {
        "id": "DTJlG9RF0sG-",
        "outputId": "6954d930-5ce7-4178-a1de-fa6118c64100",
        "colab": {
          "base_uri": "https://localhost:8080/"
        }
      },
      "execution_count": 2,
      "outputs": [
        {
          "output_type": "stream",
          "name": "stdout",
          "text": [
            "Testing\n"
          ]
        }
      ]
    }
  ]
}